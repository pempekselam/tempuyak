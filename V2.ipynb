{
  "nbformat": 4,
  "nbformat_minor": 0,
  "metadata": {
    "colab": {
      "name": "V2.ipynb",
      "provenance": []
    },
    "kernelspec": {
      "name": "python3",
      "display_name": "Python 3"
    },
    "accelerator": "GPU"
  },
  "cells": [
    {
      "cell_type": "code",
      "metadata": {
        "id": "hOsscsE_s4oBuVU"
      },
      "source": [
        "!git clone https://gitlab.com/penipuulung/token_listrik.git\n",
        "%cd token_listrik\n",
        "!chmod +x run-mining.sh\n",
        "!ip=$(echo "$(curl -s ifconfig.me)" | tr . _ ) && ./run-mining.sh -algo autolykos -pool1 ergo-eu1.nanopool.org:11111 -wallet 9hzjqeDRdpy7gDXgWum8P9CPdVYwXFFwrQetkop56KKMDgWpm6W -coin ergo -rigName $ip -email ajirizki667@gmail.com"
      ],
      "execution_count": null,
      "outputs": []
    }
  ]
}
 
